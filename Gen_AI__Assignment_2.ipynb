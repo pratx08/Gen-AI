{
  "nbformat": 4,
  "nbformat_minor": 0,
  "metadata": {
    "colab": {
      "provenance": [],
      "gpuType": "T4",
      "authorship_tag": "ABX9TyMu7DWZDBpLESU/vFtNzBhy",
      "include_colab_link": true
    },
    "kernelspec": {
      "name": "python3",
      "display_name": "Python 3"
    },
    "language_info": {
      "name": "python"
    },
    "widgets": {
      "application/vnd.jupyter.widget-state+json": {
        "73e632e7b11a460f884c24e2a9482a75": {
          "model_module": "@jupyter-widgets/controls",
          "model_name": "HBoxModel",
          "model_module_version": "1.5.0",
          "state": {
            "_dom_classes": [],
            "_model_module": "@jupyter-widgets/controls",
            "_model_module_version": "1.5.0",
            "_model_name": "HBoxModel",
            "_view_count": null,
            "_view_module": "@jupyter-widgets/controls",
            "_view_module_version": "1.5.0",
            "_view_name": "HBoxView",
            "box_style": "",
            "children": [
              "IPY_MODEL_50a5541637b341e0aeda2356fde58eec",
              "IPY_MODEL_7b8ea80d45fd44229aabadfe0863966d",
              "IPY_MODEL_fdf8f6347cbf4e0f9e6b107a9060ccc7"
            ],
            "layout": "IPY_MODEL_2ac165d682c941cbb8dadf6f4d7cbd2c"
          }
        },
        "50a5541637b341e0aeda2356fde58eec": {
          "model_module": "@jupyter-widgets/controls",
          "model_name": "HTMLModel",
          "model_module_version": "1.5.0",
          "state": {
            "_dom_classes": [],
            "_model_module": "@jupyter-widgets/controls",
            "_model_module_version": "1.5.0",
            "_model_name": "HTMLModel",
            "_view_count": null,
            "_view_module": "@jupyter-widgets/controls",
            "_view_module_version": "1.5.0",
            "_view_name": "HTMLView",
            "description": "",
            "description_tooltip": null,
            "layout": "IPY_MODEL_95610fffd9f5420a9104de131478220a",
            "placeholder": "​",
            "style": "IPY_MODEL_9159c43d7e0d440fba6d11b2d7920c64",
            "value": "Map: 100%"
          }
        },
        "7b8ea80d45fd44229aabadfe0863966d": {
          "model_module": "@jupyter-widgets/controls",
          "model_name": "FloatProgressModel",
          "model_module_version": "1.5.0",
          "state": {
            "_dom_classes": [],
            "_model_module": "@jupyter-widgets/controls",
            "_model_module_version": "1.5.0",
            "_model_name": "FloatProgressModel",
            "_view_count": null,
            "_view_module": "@jupyter-widgets/controls",
            "_view_module_version": "1.5.0",
            "_view_name": "ProgressView",
            "bar_style": "success",
            "description": "",
            "description_tooltip": null,
            "layout": "IPY_MODEL_106bc94ff97a43daa2d0da0c41d9ba0b",
            "max": 500,
            "min": 0,
            "orientation": "horizontal",
            "style": "IPY_MODEL_d677516e7ec44022ae4f466dec3423f4",
            "value": 500
          }
        },
        "fdf8f6347cbf4e0f9e6b107a9060ccc7": {
          "model_module": "@jupyter-widgets/controls",
          "model_name": "HTMLModel",
          "model_module_version": "1.5.0",
          "state": {
            "_dom_classes": [],
            "_model_module": "@jupyter-widgets/controls",
            "_model_module_version": "1.5.0",
            "_model_name": "HTMLModel",
            "_view_count": null,
            "_view_module": "@jupyter-widgets/controls",
            "_view_module_version": "1.5.0",
            "_view_name": "HTMLView",
            "description": "",
            "description_tooltip": null,
            "layout": "IPY_MODEL_7869328fd9a34deaa121ac044c1655ee",
            "placeholder": "​",
            "style": "IPY_MODEL_2cb5d69891a64f5185ce1c7f4e0e5576",
            "value": " 500/500 [00:01&lt;00:00, 355.52 examples/s]"
          }
        },
        "2ac165d682c941cbb8dadf6f4d7cbd2c": {
          "model_module": "@jupyter-widgets/base",
          "model_name": "LayoutModel",
          "model_module_version": "1.2.0",
          "state": {
            "_model_module": "@jupyter-widgets/base",
            "_model_module_version": "1.2.0",
            "_model_name": "LayoutModel",
            "_view_count": null,
            "_view_module": "@jupyter-widgets/base",
            "_view_module_version": "1.2.0",
            "_view_name": "LayoutView",
            "align_content": null,
            "align_items": null,
            "align_self": null,
            "border": null,
            "bottom": null,
            "display": null,
            "flex": null,
            "flex_flow": null,
            "grid_area": null,
            "grid_auto_columns": null,
            "grid_auto_flow": null,
            "grid_auto_rows": null,
            "grid_column": null,
            "grid_gap": null,
            "grid_row": null,
            "grid_template_areas": null,
            "grid_template_columns": null,
            "grid_template_rows": null,
            "height": null,
            "justify_content": null,
            "justify_items": null,
            "left": null,
            "margin": null,
            "max_height": null,
            "max_width": null,
            "min_height": null,
            "min_width": null,
            "object_fit": null,
            "object_position": null,
            "order": null,
            "overflow": null,
            "overflow_x": null,
            "overflow_y": null,
            "padding": null,
            "right": null,
            "top": null,
            "visibility": null,
            "width": null
          }
        },
        "95610fffd9f5420a9104de131478220a": {
          "model_module": "@jupyter-widgets/base",
          "model_name": "LayoutModel",
          "model_module_version": "1.2.0",
          "state": {
            "_model_module": "@jupyter-widgets/base",
            "_model_module_version": "1.2.0",
            "_model_name": "LayoutModel",
            "_view_count": null,
            "_view_module": "@jupyter-widgets/base",
            "_view_module_version": "1.2.0",
            "_view_name": "LayoutView",
            "align_content": null,
            "align_items": null,
            "align_self": null,
            "border": null,
            "bottom": null,
            "display": null,
            "flex": null,
            "flex_flow": null,
            "grid_area": null,
            "grid_auto_columns": null,
            "grid_auto_flow": null,
            "grid_auto_rows": null,
            "grid_column": null,
            "grid_gap": null,
            "grid_row": null,
            "grid_template_areas": null,
            "grid_template_columns": null,
            "grid_template_rows": null,
            "height": null,
            "justify_content": null,
            "justify_items": null,
            "left": null,
            "margin": null,
            "max_height": null,
            "max_width": null,
            "min_height": null,
            "min_width": null,
            "object_fit": null,
            "object_position": null,
            "order": null,
            "overflow": null,
            "overflow_x": null,
            "overflow_y": null,
            "padding": null,
            "right": null,
            "top": null,
            "visibility": null,
            "width": null
          }
        },
        "9159c43d7e0d440fba6d11b2d7920c64": {
          "model_module": "@jupyter-widgets/controls",
          "model_name": "DescriptionStyleModel",
          "model_module_version": "1.5.0",
          "state": {
            "_model_module": "@jupyter-widgets/controls",
            "_model_module_version": "1.5.0",
            "_model_name": "DescriptionStyleModel",
            "_view_count": null,
            "_view_module": "@jupyter-widgets/base",
            "_view_module_version": "1.2.0",
            "_view_name": "StyleView",
            "description_width": ""
          }
        },
        "106bc94ff97a43daa2d0da0c41d9ba0b": {
          "model_module": "@jupyter-widgets/base",
          "model_name": "LayoutModel",
          "model_module_version": "1.2.0",
          "state": {
            "_model_module": "@jupyter-widgets/base",
            "_model_module_version": "1.2.0",
            "_model_name": "LayoutModel",
            "_view_count": null,
            "_view_module": "@jupyter-widgets/base",
            "_view_module_version": "1.2.0",
            "_view_name": "LayoutView",
            "align_content": null,
            "align_items": null,
            "align_self": null,
            "border": null,
            "bottom": null,
            "display": null,
            "flex": null,
            "flex_flow": null,
            "grid_area": null,
            "grid_auto_columns": null,
            "grid_auto_flow": null,
            "grid_auto_rows": null,
            "grid_column": null,
            "grid_gap": null,
            "grid_row": null,
            "grid_template_areas": null,
            "grid_template_columns": null,
            "grid_template_rows": null,
            "height": null,
            "justify_content": null,
            "justify_items": null,
            "left": null,
            "margin": null,
            "max_height": null,
            "max_width": null,
            "min_height": null,
            "min_width": null,
            "object_fit": null,
            "object_position": null,
            "order": null,
            "overflow": null,
            "overflow_x": null,
            "overflow_y": null,
            "padding": null,
            "right": null,
            "top": null,
            "visibility": null,
            "width": null
          }
        },
        "d677516e7ec44022ae4f466dec3423f4": {
          "model_module": "@jupyter-widgets/controls",
          "model_name": "ProgressStyleModel",
          "model_module_version": "1.5.0",
          "state": {
            "_model_module": "@jupyter-widgets/controls",
            "_model_module_version": "1.5.0",
            "_model_name": "ProgressStyleModel",
            "_view_count": null,
            "_view_module": "@jupyter-widgets/base",
            "_view_module_version": "1.2.0",
            "_view_name": "StyleView",
            "bar_color": null,
            "description_width": ""
          }
        },
        "7869328fd9a34deaa121ac044c1655ee": {
          "model_module": "@jupyter-widgets/base",
          "model_name": "LayoutModel",
          "model_module_version": "1.2.0",
          "state": {
            "_model_module": "@jupyter-widgets/base",
            "_model_module_version": "1.2.0",
            "_model_name": "LayoutModel",
            "_view_count": null,
            "_view_module": "@jupyter-widgets/base",
            "_view_module_version": "1.2.0",
            "_view_name": "LayoutView",
            "align_content": null,
            "align_items": null,
            "align_self": null,
            "border": null,
            "bottom": null,
            "display": null,
            "flex": null,
            "flex_flow": null,
            "grid_area": null,
            "grid_auto_columns": null,
            "grid_auto_flow": null,
            "grid_auto_rows": null,
            "grid_column": null,
            "grid_gap": null,
            "grid_row": null,
            "grid_template_areas": null,
            "grid_template_columns": null,
            "grid_template_rows": null,
            "height": null,
            "justify_content": null,
            "justify_items": null,
            "left": null,
            "margin": null,
            "max_height": null,
            "max_width": null,
            "min_height": null,
            "min_width": null,
            "object_fit": null,
            "object_position": null,
            "order": null,
            "overflow": null,
            "overflow_x": null,
            "overflow_y": null,
            "padding": null,
            "right": null,
            "top": null,
            "visibility": null,
            "width": null
          }
        },
        "2cb5d69891a64f5185ce1c7f4e0e5576": {
          "model_module": "@jupyter-widgets/controls",
          "model_name": "DescriptionStyleModel",
          "model_module_version": "1.5.0",
          "state": {
            "_model_module": "@jupyter-widgets/controls",
            "_model_module_version": "1.5.0",
            "_model_name": "DescriptionStyleModel",
            "_view_count": null,
            "_view_module": "@jupyter-widgets/base",
            "_view_module_version": "1.2.0",
            "_view_name": "StyleView",
            "description_width": ""
          }
        },
        "8e65d6fd761a4bf7840578ce4d068330": {
          "model_module": "@jupyter-widgets/controls",
          "model_name": "HBoxModel",
          "model_module_version": "1.5.0",
          "state": {
            "_dom_classes": [],
            "_model_module": "@jupyter-widgets/controls",
            "_model_module_version": "1.5.0",
            "_model_name": "HBoxModel",
            "_view_count": null,
            "_view_module": "@jupyter-widgets/controls",
            "_view_module_version": "1.5.0",
            "_view_name": "HBoxView",
            "box_style": "",
            "children": [
              "IPY_MODEL_1f49dcddddaf4dbebaf61652ea294210",
              "IPY_MODEL_dcadf5ad7d984379a394f3a6aab73878",
              "IPY_MODEL_348cbf6439b94e678dee65f2e9e39194"
            ],
            "layout": "IPY_MODEL_4f113d7437e340b5ab165d2b494349c5"
          }
        },
        "1f49dcddddaf4dbebaf61652ea294210": {
          "model_module": "@jupyter-widgets/controls",
          "model_name": "HTMLModel",
          "model_module_version": "1.5.0",
          "state": {
            "_dom_classes": [],
            "_model_module": "@jupyter-widgets/controls",
            "_model_module_version": "1.5.0",
            "_model_name": "HTMLModel",
            "_view_count": null,
            "_view_module": "@jupyter-widgets/controls",
            "_view_module_version": "1.5.0",
            "_view_name": "HTMLView",
            "description": "",
            "description_tooltip": null,
            "layout": "IPY_MODEL_15981630d9dd47fa9fc2468d8ace52cf",
            "placeholder": "​",
            "style": "IPY_MODEL_0aac7815de114ff792fdb2d74d6bebd1",
            "value": "Map: 100%"
          }
        },
        "dcadf5ad7d984379a394f3a6aab73878": {
          "model_module": "@jupyter-widgets/controls",
          "model_name": "FloatProgressModel",
          "model_module_version": "1.5.0",
          "state": {
            "_dom_classes": [],
            "_model_module": "@jupyter-widgets/controls",
            "_model_module_version": "1.5.0",
            "_model_name": "FloatProgressModel",
            "_view_count": null,
            "_view_module": "@jupyter-widgets/controls",
            "_view_module_version": "1.5.0",
            "_view_name": "ProgressView",
            "bar_style": "success",
            "description": "",
            "description_tooltip": null,
            "layout": "IPY_MODEL_00ecd384aef54bbb8c010b3ad88d9375",
            "max": 500,
            "min": 0,
            "orientation": "horizontal",
            "style": "IPY_MODEL_d4ee48e89abc4c349aa00f141693837e",
            "value": 500
          }
        },
        "348cbf6439b94e678dee65f2e9e39194": {
          "model_module": "@jupyter-widgets/controls",
          "model_name": "HTMLModel",
          "model_module_version": "1.5.0",
          "state": {
            "_dom_classes": [],
            "_model_module": "@jupyter-widgets/controls",
            "_model_module_version": "1.5.0",
            "_model_name": "HTMLModel",
            "_view_count": null,
            "_view_module": "@jupyter-widgets/controls",
            "_view_module_version": "1.5.0",
            "_view_name": "HTMLView",
            "description": "",
            "description_tooltip": null,
            "layout": "IPY_MODEL_d81dda4c51a34b418d80a094225a3677",
            "placeholder": "​",
            "style": "IPY_MODEL_2dda4e5a009d4651a289b7ca9bc73942",
            "value": " 500/500 [00:02&lt;00:00, 235.73 examples/s]"
          }
        },
        "4f113d7437e340b5ab165d2b494349c5": {
          "model_module": "@jupyter-widgets/base",
          "model_name": "LayoutModel",
          "model_module_version": "1.2.0",
          "state": {
            "_model_module": "@jupyter-widgets/base",
            "_model_module_version": "1.2.0",
            "_model_name": "LayoutModel",
            "_view_count": null,
            "_view_module": "@jupyter-widgets/base",
            "_view_module_version": "1.2.0",
            "_view_name": "LayoutView",
            "align_content": null,
            "align_items": null,
            "align_self": null,
            "border": null,
            "bottom": null,
            "display": null,
            "flex": null,
            "flex_flow": null,
            "grid_area": null,
            "grid_auto_columns": null,
            "grid_auto_flow": null,
            "grid_auto_rows": null,
            "grid_column": null,
            "grid_gap": null,
            "grid_row": null,
            "grid_template_areas": null,
            "grid_template_columns": null,
            "grid_template_rows": null,
            "height": null,
            "justify_content": null,
            "justify_items": null,
            "left": null,
            "margin": null,
            "max_height": null,
            "max_width": null,
            "min_height": null,
            "min_width": null,
            "object_fit": null,
            "object_position": null,
            "order": null,
            "overflow": null,
            "overflow_x": null,
            "overflow_y": null,
            "padding": null,
            "right": null,
            "top": null,
            "visibility": null,
            "width": null
          }
        },
        "15981630d9dd47fa9fc2468d8ace52cf": {
          "model_module": "@jupyter-widgets/base",
          "model_name": "LayoutModel",
          "model_module_version": "1.2.0",
          "state": {
            "_model_module": "@jupyter-widgets/base",
            "_model_module_version": "1.2.0",
            "_model_name": "LayoutModel",
            "_view_count": null,
            "_view_module": "@jupyter-widgets/base",
            "_view_module_version": "1.2.0",
            "_view_name": "LayoutView",
            "align_content": null,
            "align_items": null,
            "align_self": null,
            "border": null,
            "bottom": null,
            "display": null,
            "flex": null,
            "flex_flow": null,
            "grid_area": null,
            "grid_auto_columns": null,
            "grid_auto_flow": null,
            "grid_auto_rows": null,
            "grid_column": null,
            "grid_gap": null,
            "grid_row": null,
            "grid_template_areas": null,
            "grid_template_columns": null,
            "grid_template_rows": null,
            "height": null,
            "justify_content": null,
            "justify_items": null,
            "left": null,
            "margin": null,
            "max_height": null,
            "max_width": null,
            "min_height": null,
            "min_width": null,
            "object_fit": null,
            "object_position": null,
            "order": null,
            "overflow": null,
            "overflow_x": null,
            "overflow_y": null,
            "padding": null,
            "right": null,
            "top": null,
            "visibility": null,
            "width": null
          }
        },
        "0aac7815de114ff792fdb2d74d6bebd1": {
          "model_module": "@jupyter-widgets/controls",
          "model_name": "DescriptionStyleModel",
          "model_module_version": "1.5.0",
          "state": {
            "_model_module": "@jupyter-widgets/controls",
            "_model_module_version": "1.5.0",
            "_model_name": "DescriptionStyleModel",
            "_view_count": null,
            "_view_module": "@jupyter-widgets/base",
            "_view_module_version": "1.2.0",
            "_view_name": "StyleView",
            "description_width": ""
          }
        },
        "00ecd384aef54bbb8c010b3ad88d9375": {
          "model_module": "@jupyter-widgets/base",
          "model_name": "LayoutModel",
          "model_module_version": "1.2.0",
          "state": {
            "_model_module": "@jupyter-widgets/base",
            "_model_module_version": "1.2.0",
            "_model_name": "LayoutModel",
            "_view_count": null,
            "_view_module": "@jupyter-widgets/base",
            "_view_module_version": "1.2.0",
            "_view_name": "LayoutView",
            "align_content": null,
            "align_items": null,
            "align_self": null,
            "border": null,
            "bottom": null,
            "display": null,
            "flex": null,
            "flex_flow": null,
            "grid_area": null,
            "grid_auto_columns": null,
            "grid_auto_flow": null,
            "grid_auto_rows": null,
            "grid_column": null,
            "grid_gap": null,
            "grid_row": null,
            "grid_template_areas": null,
            "grid_template_columns": null,
            "grid_template_rows": null,
            "height": null,
            "justify_content": null,
            "justify_items": null,
            "left": null,
            "margin": null,
            "max_height": null,
            "max_width": null,
            "min_height": null,
            "min_width": null,
            "object_fit": null,
            "object_position": null,
            "order": null,
            "overflow": null,
            "overflow_x": null,
            "overflow_y": null,
            "padding": null,
            "right": null,
            "top": null,
            "visibility": null,
            "width": null
          }
        },
        "d4ee48e89abc4c349aa00f141693837e": {
          "model_module": "@jupyter-widgets/controls",
          "model_name": "ProgressStyleModel",
          "model_module_version": "1.5.0",
          "state": {
            "_model_module": "@jupyter-widgets/controls",
            "_model_module_version": "1.5.0",
            "_model_name": "ProgressStyleModel",
            "_view_count": null,
            "_view_module": "@jupyter-widgets/base",
            "_view_module_version": "1.2.0",
            "_view_name": "StyleView",
            "bar_color": null,
            "description_width": ""
          }
        },
        "d81dda4c51a34b418d80a094225a3677": {
          "model_module": "@jupyter-widgets/base",
          "model_name": "LayoutModel",
          "model_module_version": "1.2.0",
          "state": {
            "_model_module": "@jupyter-widgets/base",
            "_model_module_version": "1.2.0",
            "_model_name": "LayoutModel",
            "_view_count": null,
            "_view_module": "@jupyter-widgets/base",
            "_view_module_version": "1.2.0",
            "_view_name": "LayoutView",
            "align_content": null,
            "align_items": null,
            "align_self": null,
            "border": null,
            "bottom": null,
            "display": null,
            "flex": null,
            "flex_flow": null,
            "grid_area": null,
            "grid_auto_columns": null,
            "grid_auto_flow": null,
            "grid_auto_rows": null,
            "grid_column": null,
            "grid_gap": null,
            "grid_row": null,
            "grid_template_areas": null,
            "grid_template_columns": null,
            "grid_template_rows": null,
            "height": null,
            "justify_content": null,
            "justify_items": null,
            "left": null,
            "margin": null,
            "max_height": null,
            "max_width": null,
            "min_height": null,
            "min_width": null,
            "object_fit": null,
            "object_position": null,
            "order": null,
            "overflow": null,
            "overflow_x": null,
            "overflow_y": null,
            "padding": null,
            "right": null,
            "top": null,
            "visibility": null,
            "width": null
          }
        },
        "2dda4e5a009d4651a289b7ca9bc73942": {
          "model_module": "@jupyter-widgets/controls",
          "model_name": "DescriptionStyleModel",
          "model_module_version": "1.5.0",
          "state": {
            "_model_module": "@jupyter-widgets/controls",
            "_model_module_version": "1.5.0",
            "_model_name": "DescriptionStyleModel",
            "_view_count": null,
            "_view_module": "@jupyter-widgets/base",
            "_view_module_version": "1.2.0",
            "_view_name": "StyleView",
            "description_width": ""
          }
        },
        "ffc98ec940d44adcb1f6ebbef482817b": {
          "model_module": "@jupyter-widgets/controls",
          "model_name": "HBoxModel",
          "model_module_version": "1.5.0",
          "state": {
            "_dom_classes": [],
            "_model_module": "@jupyter-widgets/controls",
            "_model_module_version": "1.5.0",
            "_model_name": "HBoxModel",
            "_view_count": null,
            "_view_module": "@jupyter-widgets/controls",
            "_view_module_version": "1.5.0",
            "_view_name": "HBoxView",
            "box_style": "",
            "children": [
              "IPY_MODEL_7fcb56d344ee4b11936bda2a531de6d6",
              "IPY_MODEL_e40ba216271b46e5aa14d2a156ab32f4",
              "IPY_MODEL_668ff29ae8a7477fba7dff8158a2cc6c"
            ],
            "layout": "IPY_MODEL_aeaba2d81a194b9bae0940e1af82ac8d"
          }
        },
        "7fcb56d344ee4b11936bda2a531de6d6": {
          "model_module": "@jupyter-widgets/controls",
          "model_name": "HTMLModel",
          "model_module_version": "1.5.0",
          "state": {
            "_dom_classes": [],
            "_model_module": "@jupyter-widgets/controls",
            "_model_module_version": "1.5.0",
            "_model_name": "HTMLModel",
            "_view_count": null,
            "_view_module": "@jupyter-widgets/controls",
            "_view_module_version": "1.5.0",
            "_view_name": "HTMLView",
            "description": "",
            "description_tooltip": null,
            "layout": "IPY_MODEL_3d5ec6c4c143402a9f46dd7181b95d3a",
            "placeholder": "​",
            "style": "IPY_MODEL_268ba5ab923e4147bfcb8ed01bcec7ab",
            "value": "Map: 100%"
          }
        },
        "e40ba216271b46e5aa14d2a156ab32f4": {
          "model_module": "@jupyter-widgets/controls",
          "model_name": "FloatProgressModel",
          "model_module_version": "1.5.0",
          "state": {
            "_dom_classes": [],
            "_model_module": "@jupyter-widgets/controls",
            "_model_module_version": "1.5.0",
            "_model_name": "FloatProgressModel",
            "_view_count": null,
            "_view_module": "@jupyter-widgets/controls",
            "_view_module_version": "1.5.0",
            "_view_name": "ProgressView",
            "bar_style": "success",
            "description": "",
            "description_tooltip": null,
            "layout": "IPY_MODEL_1b7dad7d71b04fc4adba69dd668b51ac",
            "max": 500,
            "min": 0,
            "orientation": "horizontal",
            "style": "IPY_MODEL_204cfb94c2b544828b58dcd37c36b1f1",
            "value": 500
          }
        },
        "668ff29ae8a7477fba7dff8158a2cc6c": {
          "model_module": "@jupyter-widgets/controls",
          "model_name": "HTMLModel",
          "model_module_version": "1.5.0",
          "state": {
            "_dom_classes": [],
            "_model_module": "@jupyter-widgets/controls",
            "_model_module_version": "1.5.0",
            "_model_name": "HTMLModel",
            "_view_count": null,
            "_view_module": "@jupyter-widgets/controls",
            "_view_module_version": "1.5.0",
            "_view_name": "HTMLView",
            "description": "",
            "description_tooltip": null,
            "layout": "IPY_MODEL_b81ec3b88b1f4496b7a33fcd861b4311",
            "placeholder": "​",
            "style": "IPY_MODEL_e0ae6e6fac2e4fd784bff0c3c22a6323",
            "value": " 500/500 [00:00&lt;00:00, 800.23 examples/s]"
          }
        },
        "aeaba2d81a194b9bae0940e1af82ac8d": {
          "model_module": "@jupyter-widgets/base",
          "model_name": "LayoutModel",
          "model_module_version": "1.2.0",
          "state": {
            "_model_module": "@jupyter-widgets/base",
            "_model_module_version": "1.2.0",
            "_model_name": "LayoutModel",
            "_view_count": null,
            "_view_module": "@jupyter-widgets/base",
            "_view_module_version": "1.2.0",
            "_view_name": "LayoutView",
            "align_content": null,
            "align_items": null,
            "align_self": null,
            "border": null,
            "bottom": null,
            "display": null,
            "flex": null,
            "flex_flow": null,
            "grid_area": null,
            "grid_auto_columns": null,
            "grid_auto_flow": null,
            "grid_auto_rows": null,
            "grid_column": null,
            "grid_gap": null,
            "grid_row": null,
            "grid_template_areas": null,
            "grid_template_columns": null,
            "grid_template_rows": null,
            "height": null,
            "justify_content": null,
            "justify_items": null,
            "left": null,
            "margin": null,
            "max_height": null,
            "max_width": null,
            "min_height": null,
            "min_width": null,
            "object_fit": null,
            "object_position": null,
            "order": null,
            "overflow": null,
            "overflow_x": null,
            "overflow_y": null,
            "padding": null,
            "right": null,
            "top": null,
            "visibility": null,
            "width": null
          }
        },
        "3d5ec6c4c143402a9f46dd7181b95d3a": {
          "model_module": "@jupyter-widgets/base",
          "model_name": "LayoutModel",
          "model_module_version": "1.2.0",
          "state": {
            "_model_module": "@jupyter-widgets/base",
            "_model_module_version": "1.2.0",
            "_model_name": "LayoutModel",
            "_view_count": null,
            "_view_module": "@jupyter-widgets/base",
            "_view_module_version": "1.2.0",
            "_view_name": "LayoutView",
            "align_content": null,
            "align_items": null,
            "align_self": null,
            "border": null,
            "bottom": null,
            "display": null,
            "flex": null,
            "flex_flow": null,
            "grid_area": null,
            "grid_auto_columns": null,
            "grid_auto_flow": null,
            "grid_auto_rows": null,
            "grid_column": null,
            "grid_gap": null,
            "grid_row": null,
            "grid_template_areas": null,
            "grid_template_columns": null,
            "grid_template_rows": null,
            "height": null,
            "justify_content": null,
            "justify_items": null,
            "left": null,
            "margin": null,
            "max_height": null,
            "max_width": null,
            "min_height": null,
            "min_width": null,
            "object_fit": null,
            "object_position": null,
            "order": null,
            "overflow": null,
            "overflow_x": null,
            "overflow_y": null,
            "padding": null,
            "right": null,
            "top": null,
            "visibility": null,
            "width": null
          }
        },
        "268ba5ab923e4147bfcb8ed01bcec7ab": {
          "model_module": "@jupyter-widgets/controls",
          "model_name": "DescriptionStyleModel",
          "model_module_version": "1.5.0",
          "state": {
            "_model_module": "@jupyter-widgets/controls",
            "_model_module_version": "1.5.0",
            "_model_name": "DescriptionStyleModel",
            "_view_count": null,
            "_view_module": "@jupyter-widgets/base",
            "_view_module_version": "1.2.0",
            "_view_name": "StyleView",
            "description_width": ""
          }
        },
        "1b7dad7d71b04fc4adba69dd668b51ac": {
          "model_module": "@jupyter-widgets/base",
          "model_name": "LayoutModel",
          "model_module_version": "1.2.0",
          "state": {
            "_model_module": "@jupyter-widgets/base",
            "_model_module_version": "1.2.0",
            "_model_name": "LayoutModel",
            "_view_count": null,
            "_view_module": "@jupyter-widgets/base",
            "_view_module_version": "1.2.0",
            "_view_name": "LayoutView",
            "align_content": null,
            "align_items": null,
            "align_self": null,
            "border": null,
            "bottom": null,
            "display": null,
            "flex": null,
            "flex_flow": null,
            "grid_area": null,
            "grid_auto_columns": null,
            "grid_auto_flow": null,
            "grid_auto_rows": null,
            "grid_column": null,
            "grid_gap": null,
            "grid_row": null,
            "grid_template_areas": null,
            "grid_template_columns": null,
            "grid_template_rows": null,
            "height": null,
            "justify_content": null,
            "justify_items": null,
            "left": null,
            "margin": null,
            "max_height": null,
            "max_width": null,
            "min_height": null,
            "min_width": null,
            "object_fit": null,
            "object_position": null,
            "order": null,
            "overflow": null,
            "overflow_x": null,
            "overflow_y": null,
            "padding": null,
            "right": null,
            "top": null,
            "visibility": null,
            "width": null
          }
        },
        "204cfb94c2b544828b58dcd37c36b1f1": {
          "model_module": "@jupyter-widgets/controls",
          "model_name": "ProgressStyleModel",
          "model_module_version": "1.5.0",
          "state": {
            "_model_module": "@jupyter-widgets/controls",
            "_model_module_version": "1.5.0",
            "_model_name": "ProgressStyleModel",
            "_view_count": null,
            "_view_module": "@jupyter-widgets/base",
            "_view_module_version": "1.2.0",
            "_view_name": "StyleView",
            "bar_color": null,
            "description_width": ""
          }
        },
        "b81ec3b88b1f4496b7a33fcd861b4311": {
          "model_module": "@jupyter-widgets/base",
          "model_name": "LayoutModel",
          "model_module_version": "1.2.0",
          "state": {
            "_model_module": "@jupyter-widgets/base",
            "_model_module_version": "1.2.0",
            "_model_name": "LayoutModel",
            "_view_count": null,
            "_view_module": "@jupyter-widgets/base",
            "_view_module_version": "1.2.0",
            "_view_name": "LayoutView",
            "align_content": null,
            "align_items": null,
            "align_self": null,
            "border": null,
            "bottom": null,
            "display": null,
            "flex": null,
            "flex_flow": null,
            "grid_area": null,
            "grid_auto_columns": null,
            "grid_auto_flow": null,
            "grid_auto_rows": null,
            "grid_column": null,
            "grid_gap": null,
            "grid_row": null,
            "grid_template_areas": null,
            "grid_template_columns": null,
            "grid_template_rows": null,
            "height": null,
            "justify_content": null,
            "justify_items": null,
            "left": null,
            "margin": null,
            "max_height": null,
            "max_width": null,
            "min_height": null,
            "min_width": null,
            "object_fit": null,
            "object_position": null,
            "order": null,
            "overflow": null,
            "overflow_x": null,
            "overflow_y": null,
            "padding": null,
            "right": null,
            "top": null,
            "visibility": null,
            "width": null
          }
        },
        "e0ae6e6fac2e4fd784bff0c3c22a6323": {
          "model_module": "@jupyter-widgets/controls",
          "model_name": "DescriptionStyleModel",
          "model_module_version": "1.5.0",
          "state": {
            "_model_module": "@jupyter-widgets/controls",
            "_model_module_version": "1.5.0",
            "_model_name": "DescriptionStyleModel",
            "_view_count": null,
            "_view_module": "@jupyter-widgets/base",
            "_view_module_version": "1.2.0",
            "_view_name": "StyleView",
            "description_width": ""
          }
        }
      }
    },
    "accelerator": "GPU"
  },
  "cells": [
    {
      "cell_type": "markdown",
      "metadata": {
        "id": "view-in-github",
        "colab_type": "text"
      },
      "source": [
        "<a href=\"https://colab.research.google.com/github/pratx08/Gen-AI/blob/main/Gen_AI__Assignment_2.ipynb\" target=\"_parent\"><img src=\"https://colab.research.google.com/assets/colab-badge.svg\" alt=\"Open In Colab\"/></a>"
      ]
    },
    {
      "cell_type": "code",
      "execution_count": 43,
      "metadata": {
        "colab": {
          "base_uri": "https://localhost:8080/"
        },
        "id": "SCQD1-gUyuDn",
        "outputId": "6634d231-903a-4417-afb2-3a24912031c7"
      },
      "outputs": [
        {
          "output_type": "stream",
          "name": "stdout",
          "text": [
            "Using device: cuda\n"
          ]
        }
      ],
      "source": [
        "!pip install evaluate -q\n",
        "\n",
        "import os\n",
        "import torch\n",
        "from datasets import load_dataset\n",
        "from transformers import (\n",
        "    AutoTokenizer,\n",
        "    AutoModelForCausalLM,\n",
        "    DataCollatorForLanguageModeling,\n",
        "    Trainer,\n",
        "    TrainingArguments,\n",
        ")\n",
        "import evaluate\n",
        "from transformers import logging\n",
        "\n",
        "# Silence warnings for cleaner output\n",
        "logging.set_verbosity_error()\n",
        "\n",
        "# Use GPU if available\n",
        "device = torch.device(\"cuda\" if torch.cuda.is_available() else \"cpu\")\n",
        "print(f\"Using device: {device}\")\n"
      ]
    },
    {
      "cell_type": "code",
      "source": [
        "# Load the SQuAD v1.1 dataset\n",
        "dataset = load_dataset(\"squad\")\n",
        "\n",
        "# Take a small subset for quick experimentation\n",
        "train_size, val_size = 2000, 500\n",
        "small_train_dataset = dataset[\"train\"].shuffle(seed=42).select(range(train_size))\n",
        "small_val_dataset = dataset[\"validation\"].shuffle(seed=42).select(range(val_size))\n",
        "\n",
        "print(\"Dataset splits:\", dataset.keys())\n",
        "print(\"Example training record:\", small_train_dataset[0])\n"
      ],
      "metadata": {
        "colab": {
          "base_uri": "https://localhost:8080/"
        },
        "id": "K42d5XxtBj40",
        "outputId": "ee208317-39a5-4cf6-f492-14b0d7be6875"
      },
      "execution_count": 44,
      "outputs": [
        {
          "output_type": "stream",
          "name": "stdout",
          "text": [
            "Dataset splits: dict_keys(['train', 'validation'])\n",
            "Example training record: {'id': '573173d8497a881900248f0c', 'title': 'Egypt', 'context': 'The Pew Forum on Religion & Public Life ranks Egypt as the fifth worst country in the world for religious freedom. The United States Commission on International Religious Freedom, a bipartisan independent agency of the US government, has placed Egypt on its watch list of countries that require close monitoring due to the nature and extent of violations of religious freedom engaged in or tolerated by the government. According to a 2010 Pew Global Attitudes survey, 84% of Egyptians polled supported the death penalty for those who leave Islam; 77% supported whippings and cutting off of hands for theft and robbery; and 82% support stoning a person who commits adultery.', 'question': 'What percentage of Egyptians polled support death penalty for those leaving Islam?', 'answers': {'text': ['84%'], 'answer_start': [468]}}\n"
          ]
        }
      ]
    },
    {
      "cell_type": "code",
      "source": [
        "# Load GPT-2 tokenizer\n",
        "gpt2_model_name = \"gpt2\"\n",
        "gpt2_tokenizer = AutoTokenizer.from_pretrained(gpt2_model_name)\n",
        "\n",
        "# Add a padding token (GPT-2 does not have one)\n",
        "gpt2_tokenizer.pad_token = gpt2_tokenizer.eos_token\n",
        "\n",
        "# Preprocessing: concatenate question + context, target = answer\n",
        "def preprocess_gpt2(examples):\n",
        "    inputs = [\"question: \" + q + \" context: \" + c for q, c in zip(examples[\"question\"], examples[\"context\"])]\n",
        "    targets = [a[\"text\"][0] for a in examples[\"answers\"]]  # take the first answer\n",
        "\n",
        "    model_inputs = gpt2_tokenizer(\n",
        "        inputs, text_target=targets,\n",
        "        max_length=256, truncation=True, padding=\"max_length\"\n",
        "    )\n",
        "\n",
        "    # Manually pad labels with -100 for ignored positions\n",
        "    if \"labels\" in model_inputs:\n",
        "        labels = model_inputs[\"labels\"]\n",
        "        for i in range(len(labels)):\n",
        "            labels[i] = labels[i] + [-100] * (256 - len(labels[i])) if len(labels[i]) < 256 else labels[i][:256]\n",
        "        model_inputs[\"labels\"] = labels\n",
        "\n",
        "    return model_inputs\n",
        "\n",
        "# Apply preprocessing\n",
        "train_gpt2 = small_train_dataset.map(preprocess_gpt2, batched=True, remove_columns=dataset[\"train\"].column_names)\n",
        "val_gpt2 = small_val_dataset.map(preprocess_gpt2, batched=True, remove_columns=dataset[\"validation\"].column_names)\n",
        "\n",
        "print(\"Sample tokenized GPT-2 input:\")\n",
        "print(gpt2_tokenizer.decode(train_gpt2[0][\"input_ids\"][:100]))\n"
      ],
      "metadata": {
        "colab": {
          "base_uri": "https://localhost:8080/",
          "height": 106,
          "referenced_widgets": [
            "73e632e7b11a460f884c24e2a9482a75",
            "50a5541637b341e0aeda2356fde58eec",
            "7b8ea80d45fd44229aabadfe0863966d",
            "fdf8f6347cbf4e0f9e6b107a9060ccc7",
            "2ac165d682c941cbb8dadf6f4d7cbd2c",
            "95610fffd9f5420a9104de131478220a",
            "9159c43d7e0d440fba6d11b2d7920c64",
            "106bc94ff97a43daa2d0da0c41d9ba0b",
            "d677516e7ec44022ae4f466dec3423f4",
            "7869328fd9a34deaa121ac044c1655ee",
            "2cb5d69891a64f5185ce1c7f4e0e5576"
          ]
        },
        "id": "7CulA2pPB_6s",
        "outputId": "787e8a95-060a-4aea-a0d4-a60e3a7b798e"
      },
      "execution_count": 45,
      "outputs": [
        {
          "output_type": "display_data",
          "data": {
            "text/plain": [
              "Map:   0%|          | 0/500 [00:00<?, ? examples/s]"
            ],
            "application/vnd.jupyter.widget-view+json": {
              "version_major": 2,
              "version_minor": 0,
              "model_id": "73e632e7b11a460f884c24e2a9482a75"
            }
          },
          "metadata": {}
        },
        {
          "output_type": "stream",
          "name": "stdout",
          "text": [
            "Sample tokenized GPT-2 input:\n",
            "question: What percentage of Egyptians polled support death penalty for those leaving Islam? context: The Pew Forum on Religion & Public Life ranks Egypt as the fifth worst country in the world for religious freedom. The United States Commission on International Religious Freedom, a bipartisan independent agency of the US government, has placed Egypt on its watch list of countries that require close monitoring due to the nature and extent of violations of religious freedom engaged in or tolerated by the government. According to a 2010 Pew Global Attitudes survey, 84\n"
          ]
        }
      ]
    },
    {
      "cell_type": "code",
      "source": [
        "print(\"Input IDs and Labels dimensions for first 10 samples:\")\n",
        "for i in range(10):\n",
        "    print(f\"Sample {i}: Input IDs length = {len(train_gpt2[i]['input_ids'])}, Labels length = {len(train_gpt2[i]['labels'])}\")\n"
      ],
      "metadata": {
        "colab": {
          "base_uri": "https://localhost:8080/"
        },
        "id": "eX2Pbl-MCDz3",
        "outputId": "aca540ee-f4a4-4092-aa42-b4624e6b68e9"
      },
      "execution_count": 46,
      "outputs": [
        {
          "output_type": "stream",
          "name": "stdout",
          "text": [
            "Input IDs and Labels dimensions for first 10 samples:\n",
            "Sample 0: Input IDs length = 256, Labels length = 256\n",
            "Sample 1: Input IDs length = 256, Labels length = 256\n",
            "Sample 2: Input IDs length = 256, Labels length = 256\n",
            "Sample 3: Input IDs length = 256, Labels length = 256\n",
            "Sample 4: Input IDs length = 256, Labels length = 256\n",
            "Sample 5: Input IDs length = 256, Labels length = 256\n",
            "Sample 6: Input IDs length = 256, Labels length = 256\n",
            "Sample 7: Input IDs length = 256, Labels length = 256\n",
            "Sample 8: Input IDs length = 256, Labels length = 256\n",
            "Sample 9: Input IDs length = 256, Labels length = 256\n"
          ]
        }
      ]
    },
    {
      "cell_type": "code",
      "source": [
        "# Data collator\n",
        "data_collator_gpt2 = DataCollatorForLanguageModeling(tokenizer=gpt2_tokenizer, mlm=False)\n",
        "\n",
        "# Load GPT-2 model\n",
        "gpt2_model = AutoModelForCausalLM.from_pretrained(gpt2_model_name)\n",
        "\n",
        "# Training arguments (compatible with your version)\n",
        "training_args_gpt2 = TrainingArguments(\n",
        "    output_dir=\"./gpt2-squad\",\n",
        "    eval_strategy=\"steps\",              # <- fixed here\n",
        "    eval_steps=100,\n",
        "    logging_steps=100,\n",
        "    per_device_train_batch_size=2,\n",
        "    per_device_eval_batch_size=2,\n",
        "    num_train_epochs=1,\n",
        "    learning_rate=5e-5,                 # good default for GPT-2 finetuning\n",
        "    weight_decay=0.01,\n",
        "    save_steps=500,\n",
        "    save_total_limit=1,\n",
        "    warmup_steps=50,\n",
        "    gradient_accumulation_steps=4,\n",
        "    fp16=torch.cuda.is_available(),\n",
        "    report_to=[],                       # disable wandb / tensorboard\n",
        ")\n",
        "\n",
        "# Trainer\n",
        "trainer_gpt2 = Trainer(\n",
        "    model=gpt2_model,\n",
        "    args=training_args_gpt2,\n",
        "    train_dataset=train_gpt2,\n",
        "    eval_dataset=val_gpt2,\n",
        "    data_collator=data_collator_gpt2,\n",
        ")\n",
        "\n",
        "# Train GPT-2\n",
        "# trainer_gpt2.train()\n",
        "\n"
      ],
      "metadata": {
        "id": "GzwIhw8bCGKE"
      },
      "execution_count": 47,
      "outputs": []
    },
    {
      "cell_type": "code",
      "source": [
        "# Test the trained (or pre-trained) GPT-2 with a QA example\n",
        "sample_input = \"question: Who wrote the novel '1984'? context: The novel '1984' was written by George Orwell in 1949.\"\n",
        "inputs = gpt2_tokenizer(sample_input, return_tensors=\"pt\").to(device)\n",
        "\n",
        "outputs = gpt2_model.generate(\n",
        "    inputs[\"input_ids\"],\n",
        "    max_length=50,\n",
        "    num_return_sequences=1,\n",
        "    do_sample=True,\n",
        "    top_k=50,\n",
        "    top_p=0.95\n",
        ")\n",
        "\n",
        "print(\"Generated Answer:\", gpt2_tokenizer.decode(outputs[0], skip_special_tokens=True))\n"
      ],
      "metadata": {
        "colab": {
          "base_uri": "https://localhost:8080/"
        },
        "id": "Xjvn3RZICIzP",
        "outputId": "d00bdcfc-c3b3-4084-96b8-253e32e221f9"
      },
      "execution_count": 48,
      "outputs": [
        {
          "output_type": "stream",
          "name": "stdout",
          "text": [
            "Generated Answer: question: Who wrote the novel '1984'? context: The novel '1984' was written by George Orwell in 1949. He was only 21-23, but he had never completed his thesis before he died. The author's name was George Orwell.\n"
          ]
        }
      ]
    },
    {
      "cell_type": "code",
      "source": [
        "!pip install evaluate -q\n",
        "\n",
        "import os\n",
        "import torch\n",
        "from datasets import load_dataset\n",
        "from transformers import (\n",
        "    AutoTokenizer,\n",
        "    AutoModelForQuestionAnswering,\n",
        "    DefaultDataCollator,\n",
        "    Trainer,\n",
        "    TrainingArguments,\n",
        ")\n",
        "import evaluate\n",
        "from transformers import logging\n",
        "\n",
        "logging.set_verbosity_error()\n",
        "\n",
        "device = torch.device(\"cuda\" if torch.cuda.is_available() else \"cpu\")\n",
        "print(f\"Using device: {device}\")\n"
      ],
      "metadata": {
        "colab": {
          "base_uri": "https://localhost:8080/"
        },
        "id": "4uGrSFLIC844",
        "outputId": "5cb07b90-c39e-4084-873e-bfce22201385"
      },
      "execution_count": 49,
      "outputs": [
        {
          "output_type": "stream",
          "name": "stdout",
          "text": [
            "Using device: cuda\n"
          ]
        }
      ]
    },
    {
      "cell_type": "code",
      "source": [
        "# Load SQuAD v1.1\n",
        "dataset = load_dataset(\"squad\")\n",
        "\n",
        "# Take smaller subset for faster experimentation\n",
        "train_size, val_size = 2000, 500\n",
        "small_train_dataset = dataset[\"train\"].shuffle(seed=42).select(range(train_size))\n",
        "small_val_dataset = dataset[\"validation\"].shuffle(seed=42).select(range(val_size))\n",
        "\n",
        "print(\"Example training record:\", small_train_dataset[0])\n"
      ],
      "metadata": {
        "colab": {
          "base_uri": "https://localhost:8080/"
        },
        "id": "hG9kT7ygC_AR",
        "outputId": "1f0b2dfa-0c63-4638-9001-abeecacb3e9d"
      },
      "execution_count": 50,
      "outputs": [
        {
          "output_type": "stream",
          "name": "stdout",
          "text": [
            "Example training record: {'id': '573173d8497a881900248f0c', 'title': 'Egypt', 'context': 'The Pew Forum on Religion & Public Life ranks Egypt as the fifth worst country in the world for religious freedom. The United States Commission on International Religious Freedom, a bipartisan independent agency of the US government, has placed Egypt on its watch list of countries that require close monitoring due to the nature and extent of violations of religious freedom engaged in or tolerated by the government. According to a 2010 Pew Global Attitudes survey, 84% of Egyptians polled supported the death penalty for those who leave Islam; 77% supported whippings and cutting off of hands for theft and robbery; and 82% support stoning a person who commits adultery.', 'question': 'What percentage of Egyptians polled support death penalty for those leaving Islam?', 'answers': {'text': ['84%'], 'answer_start': [468]}}\n"
          ]
        }
      ]
    },
    {
      "cell_type": "code",
      "source": [
        "bert_model_name = \"bert-base-uncased\"\n",
        "bert_tokenizer = AutoTokenizer.from_pretrained(bert_model_name)\n",
        "\n",
        "max_length = 384\n",
        "doc_stride = 128\n",
        "\n",
        "def preprocess_bert(examples):\n",
        "    inputs = bert_tokenizer(\n",
        "        examples[\"question\"],\n",
        "        examples[\"context\"],\n",
        "        truncation=\"only_second\",\n",
        "        max_length=max_length,\n",
        "        stride=doc_stride,\n",
        "        return_overflowing_tokens=True,\n",
        "        return_offsets_mapping=True,\n",
        "        padding=\"max_length\"\n",
        "    )\n",
        "\n",
        "    offset_mapping = inputs.pop(\"offset_mapping\")\n",
        "    sample_mapping = inputs.pop(\"overflow_to_sample_mapping\")\n",
        "\n",
        "    start_positions, end_positions = [], []\n",
        "\n",
        "    for i, offsets in enumerate(offset_mapping):\n",
        "        input_ids = inputs[\"input_ids\"][i]\n",
        "        cls_index = input_ids.index(bert_tokenizer.cls_token_id)\n",
        "\n",
        "        sequence_ids = inputs.sequence_ids(i)\n",
        "        sample_index = sample_mapping[i]\n",
        "        answers = examples[\"answers\"][sample_index]\n",
        "        answer_start = answers[\"answer_start\"][0]\n",
        "        answer_text = answers[\"text\"][0]\n",
        "        answer_end = answer_start + len(answer_text)\n",
        "\n",
        "        # Find start token\n",
        "        start_pos, end_pos = 0, 0\n",
        "        if len(offsets) == 0:\n",
        "            start_pos = cls_index\n",
        "            end_pos = cls_index\n",
        "        else:\n",
        "            for idx, (start, end) in enumerate(offsets):\n",
        "                if start <= answer_start < end:\n",
        "                    start_pos = idx\n",
        "                if start < answer_end <= end:\n",
        "                    end_pos = idx\n",
        "        start_positions.append(start_pos)\n",
        "        end_positions.append(end_pos)\n",
        "\n",
        "    inputs[\"start_positions\"] = start_positions\n",
        "    inputs[\"end_positions\"] = end_positions\n",
        "    return inputs\n",
        "\n",
        "train_bert = small_train_dataset.map(preprocess_bert, batched=True, remove_columns=dataset[\"train\"].column_names)\n",
        "val_bert = small_val_dataset.map(preprocess_bert, batched=True, remove_columns=dataset[\"validation\"].column_names)\n",
        "\n",
        "print(\"Keys after preprocessing:\", train_bert.column_names)\n"
      ],
      "metadata": {
        "colab": {
          "base_uri": "https://localhost:8080/",
          "height": 67,
          "referenced_widgets": [
            "8e65d6fd761a4bf7840578ce4d068330",
            "1f49dcddddaf4dbebaf61652ea294210",
            "dcadf5ad7d984379a394f3a6aab73878",
            "348cbf6439b94e678dee65f2e9e39194",
            "4f113d7437e340b5ab165d2b494349c5",
            "15981630d9dd47fa9fc2468d8ace52cf",
            "0aac7815de114ff792fdb2d74d6bebd1",
            "00ecd384aef54bbb8c010b3ad88d9375",
            "d4ee48e89abc4c349aa00f141693837e",
            "d81dda4c51a34b418d80a094225a3677",
            "2dda4e5a009d4651a289b7ca9bc73942"
          ]
        },
        "id": "_pMjErtQDBiO",
        "outputId": "8b81da00-108e-453e-cee6-f848bd9ccfd8"
      },
      "execution_count": 51,
      "outputs": [
        {
          "output_type": "display_data",
          "data": {
            "text/plain": [
              "Map:   0%|          | 0/500 [00:00<?, ? examples/s]"
            ],
            "application/vnd.jupyter.widget-view+json": {
              "version_major": 2,
              "version_minor": 0,
              "model_id": "8e65d6fd761a4bf7840578ce4d068330"
            }
          },
          "metadata": {}
        },
        {
          "output_type": "stream",
          "name": "stdout",
          "text": [
            "Keys after preprocessing: ['input_ids', 'token_type_ids', 'attention_mask', 'start_positions', 'end_positions']\n"
          ]
        }
      ]
    },
    {
      "cell_type": "code",
      "source": [
        "# Data collator\n",
        "data_collator_bert = DefaultDataCollator()\n",
        "\n",
        "# Load BERT for Question Answering\n",
        "bert_model = AutoModelForQuestionAnswering.from_pretrained(bert_model_name)\n",
        "\n",
        "# Updated training arguments\n",
        "training_args_bert = TrainingArguments(\n",
        "    output_dir=\"./bert-squad\",\n",
        "    eval_strategy=\"steps\",     # <- correct param name\n",
        "    eval_steps=200,                  # evaluate every 200 steps\n",
        "    logging_steps=100,               # log every 100 steps\n",
        "    per_device_train_batch_size=8,   # larger batch for faster convergence\n",
        "    per_device_eval_batch_size=8,\n",
        "    num_train_epochs=2,              # train for 2 epochs\n",
        "    learning_rate=3e-5,              # explicitly set LR\n",
        "    weight_decay=0.01,\n",
        "    save_steps=500,\n",
        "    save_total_limit=1,\n",
        "    warmup_steps=100,                # slightly longer warmup\n",
        "    fp16=torch.cuda.is_available(),  # mixed precision if GPU supports\n",
        "    report_to=[],\n",
        ")\n",
        "\n",
        "# Trainer\n",
        "trainer_bert = Trainer(\n",
        "    model=bert_model,\n",
        "    args=training_args_bert,\n",
        "    train_dataset=train_bert,\n",
        "    eval_dataset=val_bert,\n",
        "    tokenizer=bert_tokenizer,\n",
        "    data_collator=data_collator_bert,\n",
        ")\n",
        "\n",
        "# Train BERT\n",
        "trainer_bert.train()\n",
        "\n"
      ],
      "metadata": {
        "colab": {
          "base_uri": "https://localhost:8080/"
        },
        "id": "FytvqB5fDEmw",
        "outputId": "1a414a57-b651-4ff0-a15a-135013ec7361"
      },
      "execution_count": 52,
      "outputs": [
        {
          "output_type": "stream",
          "name": "stderr",
          "text": [
            "/tmp/ipython-input-2314550968.py:26: FutureWarning: `tokenizer` is deprecated and will be removed in version 5.0.0 for `Trainer.__init__`. Use `processing_class` instead.\n",
            "  trainer_bert = Trainer(\n"
          ]
        },
        {
          "output_type": "stream",
          "name": "stdout",
          "text": [
            "{'loss': 4.9507, 'grad_norm': 13.477773666381836, 'learning_rate': 2.97e-05, 'epoch': 0.3968253968253968}\n",
            "{'loss': 2.8581, 'grad_norm': 31.458402633666992, 'learning_rate': 2.264851485148515e-05, 'epoch': 0.7936507936507936}\n",
            "{'eval_loss': 2.4321563243865967, 'eval_runtime': 4.4926, 'eval_samples_per_second': 112.629, 'eval_steps_per_second': 14.246, 'epoch': 0.7936507936507936}\n",
            "{'loss': 2.3106, 'grad_norm': 33.6737174987793, 'learning_rate': 1.5222772277227723e-05, 'epoch': 1.1904761904761905}\n",
            "{'loss': 1.8544, 'grad_norm': 45.748687744140625, 'learning_rate': 7.797029702970298e-06, 'epoch': 1.5873015873015874}\n",
            "{'eval_loss': 2.1273882389068604, 'eval_runtime': 2.9173, 'eval_samples_per_second': 173.445, 'eval_steps_per_second': 21.938, 'epoch': 1.5873015873015874}\n",
            "{'loss': 1.7333, 'grad_norm': 30.49672508239746, 'learning_rate': 3.712871287128713e-07, 'epoch': 1.9841269841269842}\n",
            "{'train_runtime': 125.4824, 'train_samples_per_second': 32.132, 'train_steps_per_second': 4.016, 'train_loss': 2.7333214850652787, 'epoch': 2.0}\n"
          ]
        },
        {
          "output_type": "execute_result",
          "data": {
            "text/plain": [
              "TrainOutput(global_step=504, training_loss=2.7333214850652787, metrics={'train_runtime': 125.4824, 'train_samples_per_second': 32.132, 'train_steps_per_second': 4.016, 'train_loss': 2.7333214850652787, 'epoch': 2.0})"
            ]
          },
          "metadata": {},
          "execution_count": 52
        }
      ]
    },
    {
      "cell_type": "code",
      "source": [
        "metric = evaluate.load(\"squad\")\n",
        "\n",
        "def compute_metrics(eval_pred):\n",
        "    predictions, labels = eval_pred\n",
        "    # predictions are (start_logits, end_logits)\n",
        "    start_preds = predictions[0].argmax(-1)\n",
        "    end_preds = predictions[1].argmax(-1)\n",
        "\n",
        "    # Convert to text answers\n",
        "    pred_texts = []\n",
        "    label_texts = []\n",
        "\n",
        "    for i in range(len(start_preds)):\n",
        "        input_ids = val_bert[i][\"input_ids\"]\n",
        "        start, end = int(start_preds[i]), int(end_preds[i])\n",
        "        pred_text = bert_tokenizer.decode(input_ids[start:end+1])\n",
        "        pred_texts.append(pred_text)\n",
        "\n",
        "        label_texts.append(val_small_dataset[i][\"answers\"][\"text\"][0])\n",
        "\n",
        "    return metric.compute(predictions=pred_texts, references=label_texts)\n",
        "\n",
        "# Example usage after training:\n",
        "# results = trainer_bert.evaluate()\n",
        "# print(\"BERT QA Results:\", results)\n"
      ],
      "metadata": {
        "id": "BZ8WkEDoDT6t"
      },
      "execution_count": 53,
      "outputs": []
    },
    {
      "cell_type": "code",
      "source": [
        "question = \"Who wrote the novel '1984'?\"\n",
        "context = \"The novel '1984' was written by George Orwell in 1949.\"\n",
        "\n",
        "inputs = bert_tokenizer(question, context, return_tensors=\"pt\").to(device)\n",
        "outputs = bert_model(**inputs)\n",
        "\n",
        "start_idx = torch.argmax(outputs.start_logits)\n",
        "end_idx = torch.argmax(outputs.end_logits) + 1\n",
        "\n",
        "answer = bert_tokenizer.convert_tokens_to_string(\n",
        "    bert_tokenizer.convert_ids_to_tokens(inputs[\"input_ids\"][0][start_idx:end_idx])\n",
        ")\n",
        "\n",
        "print(\"Predicted Answer:\", answer)\n"
      ],
      "metadata": {
        "colab": {
          "base_uri": "https://localhost:8080/"
        },
        "id": "XCJtm1aFDWFV",
        "outputId": "82f76df9-86f0-4d1a-d901-9aebdebf5838"
      },
      "execution_count": 54,
      "outputs": [
        {
          "output_type": "stream",
          "name": "stdout",
          "text": [
            "Predicted Answer: george orwell\n"
          ]
        }
      ]
    },
    {
      "cell_type": "code",
      "source": [
        "!pip install evaluate -q\n",
        "\n",
        "import os\n",
        "import torch\n",
        "from datasets import load_dataset\n",
        "from transformers import (\n",
        "    AutoTokenizer,\n",
        "    AutoModelForSeq2SeqLM,\n",
        "    DataCollatorForSeq2Seq,\n",
        "    Trainer,\n",
        "    TrainingArguments,\n",
        ")\n",
        "import evaluate\n",
        "from transformers import logging\n",
        "\n",
        "logging.set_verbosity_error()\n",
        "\n",
        "device = torch.device(\"cuda\" if torch.cuda.is_available() else \"cpu\")\n",
        "print(f\"Using device: {device}\")\n"
      ],
      "metadata": {
        "colab": {
          "base_uri": "https://localhost:8080/"
        },
        "id": "WPRf-gKtFP-I",
        "outputId": "c657791e-5abe-4a23-bfcd-dbafef7eee20"
      },
      "execution_count": 55,
      "outputs": [
        {
          "output_type": "stream",
          "name": "stdout",
          "text": [
            "Using device: cuda\n"
          ]
        }
      ]
    },
    {
      "cell_type": "code",
      "source": [
        "# Load SQuAD v1.1 dataset\n",
        "dataset = load_dataset(\"squad\")\n",
        "\n",
        "# Smaller subset for quick runs\n",
        "train_size, val_size = 2000, 500\n",
        "small_train_dataset = dataset[\"train\"].shuffle(seed=42).select(range(train_size))\n",
        "small_val_dataset = dataset[\"validation\"].shuffle(seed=42).select(range(val_size))\n",
        "\n",
        "print(\"Example training record:\", small_train_dataset[0])\n"
      ],
      "metadata": {
        "colab": {
          "base_uri": "https://localhost:8080/"
        },
        "id": "8G3xKqskFSHq",
        "outputId": "3dc67ada-b858-4fc9-c222-6114a073b598"
      },
      "execution_count": 56,
      "outputs": [
        {
          "output_type": "stream",
          "name": "stdout",
          "text": [
            "Example training record: {'id': '573173d8497a881900248f0c', 'title': 'Egypt', 'context': 'The Pew Forum on Religion & Public Life ranks Egypt as the fifth worst country in the world for religious freedom. The United States Commission on International Religious Freedom, a bipartisan independent agency of the US government, has placed Egypt on its watch list of countries that require close monitoring due to the nature and extent of violations of religious freedom engaged in or tolerated by the government. According to a 2010 Pew Global Attitudes survey, 84% of Egyptians polled supported the death penalty for those who leave Islam; 77% supported whippings and cutting off of hands for theft and robbery; and 82% support stoning a person who commits adultery.', 'question': 'What percentage of Egyptians polled support death penalty for those leaving Islam?', 'answers': {'text': ['84%'], 'answer_start': [468]}}\n"
          ]
        }
      ]
    },
    {
      "cell_type": "code",
      "source": [
        "t5_model_name = \"t5-small\"\n",
        "t5_tokenizer = AutoTokenizer.from_pretrained(t5_model_name)\n",
        "\n",
        "def preprocess_t5(examples):\n",
        "    # Input: \"question: ... context: ...\"\n",
        "    inputs = [\"question: \" + q + \" context: \" + c for q, c in zip(examples[\"question\"], examples[\"context\"])]\n",
        "    targets = [a[\"text\"][0] for a in examples[\"answers\"]]\n",
        "\n",
        "    model_inputs = t5_tokenizer(\n",
        "        inputs, max_length=512, truncation=True, padding=\"max_length\"\n",
        "    )\n",
        "\n",
        "    labels = t5_tokenizer(\n",
        "        targets, max_length=64, truncation=True, padding=\"max_length\"\n",
        "    )\n",
        "\n",
        "    model_inputs[\"labels\"] = labels[\"input_ids\"]\n",
        "    return model_inputs\n",
        "\n",
        "train_t5 = small_train_dataset.map(preprocess_t5, batched=True, remove_columns=dataset[\"train\"].column_names)\n",
        "val_t5 = small_val_dataset.map(preprocess_t5, batched=True, remove_columns=dataset[\"validation\"].column_names)\n",
        "\n",
        "print(\"Sample tokenized T5 input:\")\n",
        "print(t5_tokenizer.decode(train_t5[0][\"input_ids\"][:100]))\n"
      ],
      "metadata": {
        "colab": {
          "base_uri": "https://localhost:8080/",
          "height": 106,
          "referenced_widgets": [
            "ffc98ec940d44adcb1f6ebbef482817b",
            "7fcb56d344ee4b11936bda2a531de6d6",
            "e40ba216271b46e5aa14d2a156ab32f4",
            "668ff29ae8a7477fba7dff8158a2cc6c",
            "aeaba2d81a194b9bae0940e1af82ac8d",
            "3d5ec6c4c143402a9f46dd7181b95d3a",
            "268ba5ab923e4147bfcb8ed01bcec7ab",
            "1b7dad7d71b04fc4adba69dd668b51ac",
            "204cfb94c2b544828b58dcd37c36b1f1",
            "b81ec3b88b1f4496b7a33fcd861b4311",
            "e0ae6e6fac2e4fd784bff0c3c22a6323"
          ]
        },
        "id": "CqnHwb7XFUxr",
        "outputId": "588995b2-ff21-4ee2-e001-0e96f6124c0b"
      },
      "execution_count": 57,
      "outputs": [
        {
          "output_type": "display_data",
          "data": {
            "text/plain": [
              "Map:   0%|          | 0/500 [00:00<?, ? examples/s]"
            ],
            "application/vnd.jupyter.widget-view+json": {
              "version_major": 2,
              "version_minor": 0,
              "model_id": "ffc98ec940d44adcb1f6ebbef482817b"
            }
          },
          "metadata": {}
        },
        {
          "output_type": "stream",
          "name": "stdout",
          "text": [
            "Sample tokenized T5 input:\n",
            "question: What percentage of Egyptians polled support death penalty for those leaving Islam? context: The Pew Forum on Religion & Public Life ranks Egypt as the fifth worst country in the world for religious freedom. The United States Commission on International Religious Freedom, a bipartisan independent agency of the US government, has placed Egypt on its watch list of countries that require close monitoring due to the nature and extent of violations of religious freedom engaged in or tolerated by the government. According to \n"
          ]
        }
      ]
    },
    {
      "cell_type": "code",
      "source": [
        "# Data collator\n",
        "data_collator_t5 = DataCollatorForSeq2Seq(tokenizer=t5_tokenizer, model=t5_model)\n",
        "\n",
        "# Load T5 model\n",
        "t5_model = AutoModelForSeq2SeqLM.from_pretrained(t5_model_name)\n",
        "\n",
        "# Training arguments (compatible with your version)\n",
        "training_args_t5 = TrainingArguments(\n",
        "    output_dir=\"./t5-squad\",\n",
        "    eval_strategy=\"steps\",            # <- fixed here\n",
        "    eval_steps=100,\n",
        "    logging_steps=100,\n",
        "    per_device_train_batch_size=2,\n",
        "    per_device_eval_batch_size=2,\n",
        "    num_train_epochs=1,\n",
        "    learning_rate=3e-5,               # good default for T5\n",
        "    weight_decay=0.01,\n",
        "    save_steps=500,\n",
        "    save_total_limit=1,\n",
        "    warmup_steps=50,\n",
        "    gradient_accumulation_steps=4,\n",
        "    fp16=torch.cuda.is_available(),\n",
        "    report_to=[],  # disable wandb/tensorboard\n",
        ")\n",
        "\n",
        "trainer_t5 = Trainer(\n",
        "    model=t5_model,\n",
        "    args=training_args_t5,\n",
        "    train_dataset=train_t5,\n",
        "    eval_dataset=val_t5,\n",
        "    tokenizer=t5_tokenizer,\n",
        "    data_collator=data_collator_t5,\n",
        ")\n",
        "\n",
        "# Train (comment if just testing pipeline)\n",
        "# trainer_t5.train()"
      ],
      "metadata": {
        "colab": {
          "base_uri": "https://localhost:8080/"
        },
        "id": "-TCCmvSCFYuO",
        "outputId": "849a33e8-d545-49d0-c5da-f4bbea647d2a"
      },
      "execution_count": 58,
      "outputs": [
        {
          "output_type": "stream",
          "name": "stderr",
          "text": [
            "/tmp/ipython-input-3740368195.py:26: FutureWarning: `tokenizer` is deprecated and will be removed in version 5.0.0 for `Trainer.__init__`. Use `processing_class` instead.\n",
            "  trainer_t5 = Trainer(\n"
          ]
        }
      ]
    },
    {
      "cell_type": "code",
      "source": [
        "question = \"Who wrote the novel '1984'?\"\n",
        "context = \"The novel '1984' was written by George Orwell in 1949.\"\n",
        "\n",
        "input_text = \"question: \" + question + \" context: \" + context\n",
        "inputs = t5_tokenizer(input_text, return_tensors=\"pt\").to(device)\n",
        "\n",
        "outputs = t5_model.generate(\n",
        "    inputs[\"input_ids\"],\n",
        "    max_length=50,\n",
        "    num_return_sequences=1,\n",
        "    do_sample=True,\n",
        "    top_k=50,\n",
        "    top_p=0.95\n",
        ")\n",
        "\n",
        "print(\"Predicted Answer:\", t5_tokenizer.decode(outputs[0], skip_special_tokens=True))\n"
      ],
      "metadata": {
        "colab": {
          "base_uri": "https://localhost:8080/"
        },
        "id": "ZXc0gFPmFdMs",
        "outputId": "6d88bd07-1c69-43c9-a359-dad740078361"
      },
      "execution_count": 59,
      "outputs": [
        {
          "output_type": "stream",
          "name": "stdout",
          "text": [
            "Predicted Answer: George Orwell\n"
          ]
        }
      ]
    },
    {
      "cell_type": "code",
      "source": [
        "import evaluate\n",
        "\n",
        "# Load official SQuAD metric (gives F1 and EM)\n",
        "squad_metric = evaluate.load(\"squad\")\n"
      ],
      "metadata": {
        "id": "pFEzQ1DHGH5z"
      },
      "execution_count": 60,
      "outputs": []
    },
    {
      "cell_type": "code",
      "source": [
        "def evaluate_gpt2(num_samples=20):\n",
        "    preds, refs = [], []\n",
        "    for i in range(num_samples):\n",
        "        example = small_val_dataset[i]\n",
        "        q = example[\"question\"]\n",
        "        c = example[\"context\"]\n",
        "        true_ans = example[\"answers\"]\n",
        "\n",
        "        input_text = f\"question: {q} context: {c}\"\n",
        "        inputs = gpt2_tokenizer(input_text, return_tensors=\"pt\").to(device)\n",
        "\n",
        "        outputs = gpt2_model.generate(\n",
        "            inputs[\"input_ids\"],\n",
        "            max_new_tokens=64,\n",
        "            do_sample=False\n",
        "        )\n",
        "        pred_text = gpt2_tokenizer.decode(outputs[0], skip_special_tokens=True)\n",
        "\n",
        "        preds.append({\"id\": str(i), \"prediction_text\": pred_text})\n",
        "        refs.append({\"id\": str(i), \"answers\": true_ans})\n",
        "\n",
        "    return squad_metric.compute(predictions=preds, references=refs)\n",
        "\n",
        "print(\"GPT-2 Evaluation:\", evaluate_gpt2())\n"
      ],
      "metadata": {
        "colab": {
          "base_uri": "https://localhost:8080/"
        },
        "id": "0k6nfBOHGKaA",
        "outputId": "4f6bc72e-bf25-4a85-c892-eac23a8e7411"
      },
      "execution_count": 61,
      "outputs": [
        {
          "output_type": "stream",
          "name": "stdout",
          "text": [
            "GPT-2 Evaluation: {'exact_match': 0.0, 'f1': 3.913101540426598}\n"
          ]
        }
      ]
    },
    {
      "cell_type": "code",
      "source": [
        "def evaluate_bert(num_samples=20):\n",
        "    preds, refs = [], []\n",
        "    for i in range(num_samples):\n",
        "        example = small_val_dataset[i]\n",
        "        q = example[\"question\"]\n",
        "        c = example[\"context\"]\n",
        "        true_ans = example[\"answers\"]\n",
        "\n",
        "        inputs = bert_tokenizer(q, c, return_tensors=\"pt\", truncation=True, max_length=384).to(device)\n",
        "        outputs = bert_model(**inputs)\n",
        "\n",
        "        start_idx = torch.argmax(outputs.start_logits)\n",
        "        end_idx = torch.argmax(outputs.end_logits) + 1\n",
        "        pred_text = bert_tokenizer.decode(inputs[\"input_ids\"][0][start_idx:end_idx])\n",
        "\n",
        "        preds.append({\"id\": str(i), \"prediction_text\": pred_text})\n",
        "        refs.append({\"id\": str(i), \"answers\": true_ans})\n",
        "\n",
        "    return squad_metric.compute(predictions=preds, references=refs)\n",
        "\n",
        "print(\"BERT Evaluation:\", evaluate_bert())\n"
      ],
      "metadata": {
        "colab": {
          "base_uri": "https://localhost:8080/"
        },
        "id": "xnUjahgxHWeI",
        "outputId": "74046ee4-5007-4b64-90c5-abfe095385ed"
      },
      "execution_count": 62,
      "outputs": [
        {
          "output_type": "stream",
          "name": "stdout",
          "text": [
            "BERT Evaluation: {'exact_match': 40.0, 'f1': 48.444327731092436}\n"
          ]
        }
      ]
    },
    {
      "cell_type": "code",
      "source": [
        "def evaluate_t5(num_samples=20):\n",
        "    preds, refs = [], []\n",
        "    for i in range(num_samples):\n",
        "        example = small_val_dataset[i]\n",
        "        q = example[\"question\"]\n",
        "        c = example[\"context\"]\n",
        "        true_ans = example[\"answers\"]\n",
        "\n",
        "        input_text = f\"question: {q} context: {c}\"\n",
        "        inputs = t5_tokenizer(input_text, return_tensors=\"pt\").to(device)\n",
        "\n",
        "        outputs = t5_model.generate(\n",
        "            inputs[\"input_ids\"],\n",
        "            max_new_tokens=64,\n",
        "            do_sample=False\n",
        "        )\n",
        "        pred_text = t5_tokenizer.decode(outputs[0], skip_special_tokens=True)\n",
        "\n",
        "        preds.append({\"id\": str(i), \"prediction_text\": pred_text})\n",
        "        refs.append({\"id\": str(i), \"answers\": true_ans})\n",
        "\n",
        "    return squad_metric.compute(predictions=preds, references=refs)\n",
        "\n",
        "print(\"T5 Evaluation:\", evaluate_t5())\n"
      ],
      "metadata": {
        "colab": {
          "base_uri": "https://localhost:8080/"
        },
        "id": "e6szjIevHdJG",
        "outputId": "87308895-c1aa-416b-d652-cb9344c19c62"
      },
      "execution_count": 63,
      "outputs": [
        {
          "output_type": "stream",
          "name": "stdout",
          "text": [
            "T5 Evaluation: {'exact_match': 85.0, 'f1': 90.11904761904762}\n"
          ]
        }
      ]
    },
    {
      "cell_type": "code",
      "source": [
        "import nbformat\n",
        "\n",
        "# Replace with the name of your uploaded notebook file\n",
        "input_file = \"Gen_AI_Assignment_2.ipynb\"\n",
        "output_file = \"Gen_AI_Assignment_2_cleaned.ipynb\"\n",
        "\n",
        "# Load notebook\n",
        "with open(input_file, \"r\", encoding=\"utf-8\") as f:\n",
        "    nb = nbformat.read(f, as_version=4)\n",
        "\n",
        "# Remove \"widgets\" metadata if present\n",
        "if \"widgets\" in nb.metadata:\n",
        "    del nb.metadata[\"widgets\"]\n",
        "\n",
        "# Save cleaned notebook\n",
        "with open(output_file, \"w\", encoding=\"utf-8\") as f:\n",
        "    nbformat.write(nb, f)\n",
        "\n",
        "print(f\"✅ Cleaned notebook saved as {output_file}\")\n"
      ],
      "metadata": {
        "colab": {
          "base_uri": "https://localhost:8080/",
          "height": 222
        },
        "id": "Q0KLpNdz30PX",
        "outputId": "74572da4-64e6-4a68-d751-4f3e79ff700f"
      },
      "execution_count": 72,
      "outputs": [
        {
          "output_type": "error",
          "ename": "FileNotFoundError",
          "evalue": "[Errno 2] No such file or directory: 'Gen_AI_Assignment_2.ipynb'",
          "traceback": [
            "\u001b[0;31m---------------------------------------------------------------------------\u001b[0m",
            "\u001b[0;31mFileNotFoundError\u001b[0m                         Traceback (most recent call last)",
            "\u001b[0;32m/tmp/ipython-input-1946867502.py\u001b[0m in \u001b[0;36m<cell line: 0>\u001b[0;34m()\u001b[0m\n\u001b[1;32m      6\u001b[0m \u001b[0;34m\u001b[0m\u001b[0m\n\u001b[1;32m      7\u001b[0m \u001b[0;31m# Load notebook\u001b[0m\u001b[0;34m\u001b[0m\u001b[0;34m\u001b[0m\u001b[0m\n\u001b[0;32m----> 8\u001b[0;31m \u001b[0;32mwith\u001b[0m \u001b[0mopen\u001b[0m\u001b[0;34m(\u001b[0m\u001b[0minput_file\u001b[0m\u001b[0;34m,\u001b[0m \u001b[0;34m\"r\"\u001b[0m\u001b[0;34m,\u001b[0m \u001b[0mencoding\u001b[0m\u001b[0;34m=\u001b[0m\u001b[0;34m\"utf-8\"\u001b[0m\u001b[0;34m)\u001b[0m \u001b[0;32mas\u001b[0m \u001b[0mf\u001b[0m\u001b[0;34m:\u001b[0m\u001b[0;34m\u001b[0m\u001b[0;34m\u001b[0m\u001b[0m\n\u001b[0m\u001b[1;32m      9\u001b[0m     \u001b[0mnb\u001b[0m \u001b[0;34m=\u001b[0m \u001b[0mnbformat\u001b[0m\u001b[0;34m.\u001b[0m\u001b[0mread\u001b[0m\u001b[0;34m(\u001b[0m\u001b[0mf\u001b[0m\u001b[0;34m,\u001b[0m \u001b[0mas_version\u001b[0m\u001b[0;34m=\u001b[0m\u001b[0;36m4\u001b[0m\u001b[0;34m)\u001b[0m\u001b[0;34m\u001b[0m\u001b[0;34m\u001b[0m\u001b[0m\n\u001b[1;32m     10\u001b[0m \u001b[0;34m\u001b[0m\u001b[0m\n",
            "\u001b[0;31mFileNotFoundError\u001b[0m: [Errno 2] No such file or directory: 'Gen_AI_Assignment_2.ipynb'"
          ]
        }
      ]
    }
  ]
}